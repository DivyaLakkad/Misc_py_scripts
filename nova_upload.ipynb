{
 "cells": [
  {
   "cell_type": "code",
   "execution_count": 273,
   "source": [
    "import pandas as pd\r\n",
    "import datetime\r\n",
    "from datetime import date\r\n",
    "import numpy as np"
   ],
   "outputs": [],
   "metadata": {}
  },
  {
   "cell_type": "code",
   "execution_count": 274,
   "source": [
    "file_path = r\"C:\\Users\\divyal\\Desktop\\projects\\NOVA\\ta_ts\\23-E1TA-20210723-50.xlsm\"\r\n",
    "df_ts = pd.read_excel(file_path, engine='openpyxl', sheet_name='Timesheet', header=7, usecols='A:F,K,M', dtype='str').dropna(how='all')\r\n",
    "df_emp_list = pd.read_excel(file_path, engine = 'openpyxl', sheet_name = \"Employee List\", usecols=\"B,C,F,G\", dtype='str').dropna(how='all')\r\n",
    "df_date = pd.read_excel(file_path, sheet_name='Timesheet', engine='openpyxl', usecols='B', header=1)"
   ],
   "outputs": [
    {
     "output_type": "stream",
     "name": "stderr",
     "text": [
      "C:\\Users\\divyal\\AppData\\Local\\Programs\\Python\\Python39\\lib\\site-packages\\openpyxl\\worksheet\\_reader.py:300: UserWarning: Conditional Formatting extension is not supported and will be removed\n",
      "  warn(msg)\n",
      "C:\\Users\\divyal\\AppData\\Local\\Programs\\Python\\Python39\\lib\\site-packages\\openpyxl\\worksheet\\_reader.py:300: UserWarning: Data Validation extension is not supported and will be removed\n",
      "  warn(msg)\n",
      "C:\\Users\\divyal\\AppData\\Local\\Programs\\Python\\Python39\\lib\\site-packages\\openpyxl\\worksheet\\_reader.py:300: UserWarning: Data Validation extension is not supported and will be removed\n",
      "  warn(msg)\n",
      "C:\\Users\\divyal\\AppData\\Local\\Programs\\Python\\Python39\\lib\\site-packages\\openpyxl\\worksheet\\_reader.py:300: UserWarning: Conditional Formatting extension is not supported and will be removed\n",
      "  warn(msg)\n",
      "C:\\Users\\divyal\\AppData\\Local\\Programs\\Python\\Python39\\lib\\site-packages\\openpyxl\\worksheet\\_reader.py:300: UserWarning: Data Validation extension is not supported and will be removed\n",
      "  warn(msg)\n"
     ]
    }
   ],
   "metadata": {}
  },
  {
   "cell_type": "code",
   "execution_count": 275,
   "source": [
    "temp_col = df_date.columns\r\n",
    "work_date = temp_col[0]\r\n",
    "work_date = datetime.datetime.strftime(work_date, \"%b %d,%Y\")\r\n",
    "work_date"
   ],
   "outputs": [
    {
     "output_type": "execute_result",
     "data": {
      "text/plain": [
       "'Jul 23,2021'"
      ]
     },
     "metadata": {},
     "execution_count": 275
    }
   ],
   "metadata": {}
  },
  {
   "cell_type": "code",
   "execution_count": 276,
   "source": [
    "df_nova_upload = df_ts.merge(df_emp_list, left_on=\"Last name, first name\", right_on=\"Last name, first name\", how='left')"
   ],
   "outputs": [],
   "metadata": {}
  },
  {
   "cell_type": "code",
   "execution_count": 277,
   "source": [
    "def plant_val(row):\r\n",
    "    row_val = str(row[\"Last name, first name\"])\r\n",
    "    if row_val is not None or row_val != \"nan\":\r\n",
    "        return 2115\r\n",
    "\r\n",
    "def date_col(row, work_date):\r\n",
    "    row_val = str(row[\"Last name, first name\"])\r\n",
    "    if row_val is not None or row_val != \"nan\":\r\n",
    "        return f\"({work_date})\"\r\n",
    "\r\n",
    "def conf_text(row):\r\n",
    "    row_val = str(row[\"Last name, first name\"])\r\n",
    "    if row_val is not None or row_val != \"nan\":\r\n",
    "        temp_name = row_val\r\n",
    "        temp_name = temp_name.replace(\", \", \";\")\r\n",
    "        date = row[\"Date Worked\"]\r\n",
    "        if row[\"Sub\"] == \"1\" and row[\"Nights\"] == \"Yes\":\r\n",
    "            return f\"{temp_name} {date} SUB;NS\"\r\n",
    "        elif row[\"Sub\"] == \"1\":\r\n",
    "            return f\"{temp_name} {date} SUB\"\r\n",
    "        elif row[\"Nights\"] == \"Yes\":\r\n",
    "            return f\"{temp_name} {date} NS\"\r\n",
    "        else:\r\n",
    "            return f\"{temp_name} {date}\"\r\n",
    "\r\n",
    "def char_count(row):\r\n",
    "    row_val = str(row[\"Last name, first name\"])\r\n",
    "    if row_val is not None or row_val != \"nan\":\r\n",
    "        return len(row[\"Confirmation Text\"])"
   ],
   "outputs": [],
   "metadata": {}
  },
  {
   "cell_type": "code",
   "execution_count": 278,
   "source": [
    "df_nova_upload['Plant'] = df_ts.apply(lambda row: plant_val(row), axis=1)"
   ],
   "outputs": [],
   "metadata": {}
  },
  {
   "cell_type": "code",
   "execution_count": 279,
   "source": [
    "df_nova_upload['Date Worked'] = df_nova_upload.apply(lambda row: date_col(row, work_date), axis=1)"
   ],
   "outputs": [],
   "metadata": {}
  },
  {
   "cell_type": "code",
   "execution_count": 280,
   "source": [
    "df_nova_upload['Confirmation Text'] = df_nova_upload.apply(lambda row: conf_text(row), axis=1)"
   ],
   "outputs": [],
   "metadata": {}
  },
  {
   "cell_type": "code",
   "execution_count": 281,
   "source": [
    "df_nova_upload['Posting Date'] = date.today().strftime(\"%Y%m%d\")"
   ],
   "outputs": [],
   "metadata": {}
  },
  {
   "cell_type": "code",
   "execution_count": 282,
   "source": [
    "df_nova_upload"
   ],
   "outputs": [
    {
     "output_type": "execute_result",
     "data": {
      "text/plain": [
       "   Last name, first name Nights Work order #  Op Sub-op Conf Total Hours Sub  \\\n",
       "0      ABDIRAHMAN, AHMED    NaN      6377492  20    NaN  NaN          10   1   \n",
       "1             ADAN, NUUR    NaN      6809477  20    NaN  NaN          10   1   \n",
       "2       AHMED, ABDIRIZAG    NaN      6834957  20    NaN  NaN          10   1   \n",
       "3          ALARIC, BRIAN    NaN      6715439  20    NaN  NaN          10   0   \n",
       "4        ALARIC, LEONARD    NaN      6377492  20    NaN  NaN           5   0   \n",
       "..                   ...    ...          ...  ..    ...  ...         ...  ..   \n",
       "68        VINAS, DOMINGO    NaN      6809477  20    NaN  NaN           4   0   \n",
       "69        WIGGINS, BLAKE    NaN      6798167  40    NaN  NaN          10   0   \n",
       "70           WILEY, CLAY    NaN      6798167  40    NaN  NaN          10   0   \n",
       "71          YOUNG, JAMES    NaN      6798167  40    NaN  NaN          10   0   \n",
       "72          YUSUF, SADIK    NaN      6715439  20    NaN  NaN          10   1   \n",
       "\n",
       "    Quinn # OT Activity WorkCentre   Plant    Date Worked  \\\n",
       "0    353675         CLT        SCC  2115.0  (Jul 23,2021)   \n",
       "1    354632         CLT        SCC  2115.0  (Jul 23,2021)   \n",
       "2    354631         CLT        SCC  2115.0  (Jul 23,2021)   \n",
       "3   5105311         CLT        SCC  2115.0  (Jul 23,2021)   \n",
       "4   3101754         CLT        SCC  2115.0  (Jul 23,2021)   \n",
       "..      ...         ...        ...     ...            ...   \n",
       "68   354625         CLT        SCC     NaN  (Jul 23,2021)   \n",
       "69   348115         CLT        SCC     NaN  (Jul 23,2021)   \n",
       "70   354382         CLT        SCC     NaN  (Jul 23,2021)   \n",
       "71   348136         CLT        SCC     NaN  (Jul 23,2021)   \n",
       "72   345500         CLT        SCC     NaN  (Jul 23,2021)   \n",
       "\n",
       "                     Confirmation Text Posting Date  \n",
       "0   ABDIRAHMAN;AHMED (Jul 23,2021) SUB     20210805  \n",
       "1          ADAN;NUUR (Jul 23,2021) SUB     20210805  \n",
       "2    AHMED;ABDIRIZAG (Jul 23,2021) SUB     20210805  \n",
       "3           ALARIC;BRIAN (Jul 23,2021)     20210805  \n",
       "4         ALARIC;LEONARD (Jul 23,2021)     20210805  \n",
       "..                                 ...          ...  \n",
       "68         VINAS;DOMINGO (Jul 23,2021)     20210805  \n",
       "69         WIGGINS;BLAKE (Jul 23,2021)     20210805  \n",
       "70            WILEY;CLAY (Jul 23,2021)     20210805  \n",
       "71           YOUNG;JAMES (Jul 23,2021)     20210805  \n",
       "72       YUSUF;SADIK (Jul 23,2021) SUB     20210805  \n",
       "\n",
       "[73 rows x 15 columns]"
      ],
      "text/html": [
       "<div>\n",
       "<style scoped>\n",
       "    .dataframe tbody tr th:only-of-type {\n",
       "        vertical-align: middle;\n",
       "    }\n",
       "\n",
       "    .dataframe tbody tr th {\n",
       "        vertical-align: top;\n",
       "    }\n",
       "\n",
       "    .dataframe thead th {\n",
       "        text-align: right;\n",
       "    }\n",
       "</style>\n",
       "<table border=\"1\" class=\"dataframe\">\n",
       "  <thead>\n",
       "    <tr style=\"text-align: right;\">\n",
       "      <th></th>\n",
       "      <th>Last name, first name</th>\n",
       "      <th>Nights</th>\n",
       "      <th>Work order #</th>\n",
       "      <th>Op</th>\n",
       "      <th>Sub-op</th>\n",
       "      <th>Conf</th>\n",
       "      <th>Total Hours</th>\n",
       "      <th>Sub</th>\n",
       "      <th>Quinn #</th>\n",
       "      <th>OT Activity</th>\n",
       "      <th>WorkCentre</th>\n",
       "      <th>Plant</th>\n",
       "      <th>Date Worked</th>\n",
       "      <th>Confirmation Text</th>\n",
       "      <th>Posting Date</th>\n",
       "    </tr>\n",
       "  </thead>\n",
       "  <tbody>\n",
       "    <tr>\n",
       "      <th>0</th>\n",
       "      <td>ABDIRAHMAN, AHMED</td>\n",
       "      <td>NaN</td>\n",
       "      <td>6377492</td>\n",
       "      <td>20</td>\n",
       "      <td>NaN</td>\n",
       "      <td>NaN</td>\n",
       "      <td>10</td>\n",
       "      <td>1</td>\n",
       "      <td>353675</td>\n",
       "      <td>CLT</td>\n",
       "      <td>SCC</td>\n",
       "      <td>2115.0</td>\n",
       "      <td>(Jul 23,2021)</td>\n",
       "      <td>ABDIRAHMAN;AHMED (Jul 23,2021) SUB</td>\n",
       "      <td>20210805</td>\n",
       "    </tr>\n",
       "    <tr>\n",
       "      <th>1</th>\n",
       "      <td>ADAN, NUUR</td>\n",
       "      <td>NaN</td>\n",
       "      <td>6809477</td>\n",
       "      <td>20</td>\n",
       "      <td>NaN</td>\n",
       "      <td>NaN</td>\n",
       "      <td>10</td>\n",
       "      <td>1</td>\n",
       "      <td>354632</td>\n",
       "      <td>CLT</td>\n",
       "      <td>SCC</td>\n",
       "      <td>2115.0</td>\n",
       "      <td>(Jul 23,2021)</td>\n",
       "      <td>ADAN;NUUR (Jul 23,2021) SUB</td>\n",
       "      <td>20210805</td>\n",
       "    </tr>\n",
       "    <tr>\n",
       "      <th>2</th>\n",
       "      <td>AHMED, ABDIRIZAG</td>\n",
       "      <td>NaN</td>\n",
       "      <td>6834957</td>\n",
       "      <td>20</td>\n",
       "      <td>NaN</td>\n",
       "      <td>NaN</td>\n",
       "      <td>10</td>\n",
       "      <td>1</td>\n",
       "      <td>354631</td>\n",
       "      <td>CLT</td>\n",
       "      <td>SCC</td>\n",
       "      <td>2115.0</td>\n",
       "      <td>(Jul 23,2021)</td>\n",
       "      <td>AHMED;ABDIRIZAG (Jul 23,2021) SUB</td>\n",
       "      <td>20210805</td>\n",
       "    </tr>\n",
       "    <tr>\n",
       "      <th>3</th>\n",
       "      <td>ALARIC, BRIAN</td>\n",
       "      <td>NaN</td>\n",
       "      <td>6715439</td>\n",
       "      <td>20</td>\n",
       "      <td>NaN</td>\n",
       "      <td>NaN</td>\n",
       "      <td>10</td>\n",
       "      <td>0</td>\n",
       "      <td>5105311</td>\n",
       "      <td>CLT</td>\n",
       "      <td>SCC</td>\n",
       "      <td>2115.0</td>\n",
       "      <td>(Jul 23,2021)</td>\n",
       "      <td>ALARIC;BRIAN (Jul 23,2021)</td>\n",
       "      <td>20210805</td>\n",
       "    </tr>\n",
       "    <tr>\n",
       "      <th>4</th>\n",
       "      <td>ALARIC, LEONARD</td>\n",
       "      <td>NaN</td>\n",
       "      <td>6377492</td>\n",
       "      <td>20</td>\n",
       "      <td>NaN</td>\n",
       "      <td>NaN</td>\n",
       "      <td>5</td>\n",
       "      <td>0</td>\n",
       "      <td>3101754</td>\n",
       "      <td>CLT</td>\n",
       "      <td>SCC</td>\n",
       "      <td>2115.0</td>\n",
       "      <td>(Jul 23,2021)</td>\n",
       "      <td>ALARIC;LEONARD (Jul 23,2021)</td>\n",
       "      <td>20210805</td>\n",
       "    </tr>\n",
       "    <tr>\n",
       "      <th>...</th>\n",
       "      <td>...</td>\n",
       "      <td>...</td>\n",
       "      <td>...</td>\n",
       "      <td>...</td>\n",
       "      <td>...</td>\n",
       "      <td>...</td>\n",
       "      <td>...</td>\n",
       "      <td>...</td>\n",
       "      <td>...</td>\n",
       "      <td>...</td>\n",
       "      <td>...</td>\n",
       "      <td>...</td>\n",
       "      <td>...</td>\n",
       "      <td>...</td>\n",
       "      <td>...</td>\n",
       "    </tr>\n",
       "    <tr>\n",
       "      <th>68</th>\n",
       "      <td>VINAS, DOMINGO</td>\n",
       "      <td>NaN</td>\n",
       "      <td>6809477</td>\n",
       "      <td>20</td>\n",
       "      <td>NaN</td>\n",
       "      <td>NaN</td>\n",
       "      <td>4</td>\n",
       "      <td>0</td>\n",
       "      <td>354625</td>\n",
       "      <td>CLT</td>\n",
       "      <td>SCC</td>\n",
       "      <td>NaN</td>\n",
       "      <td>(Jul 23,2021)</td>\n",
       "      <td>VINAS;DOMINGO (Jul 23,2021)</td>\n",
       "      <td>20210805</td>\n",
       "    </tr>\n",
       "    <tr>\n",
       "      <th>69</th>\n",
       "      <td>WIGGINS, BLAKE</td>\n",
       "      <td>NaN</td>\n",
       "      <td>6798167</td>\n",
       "      <td>40</td>\n",
       "      <td>NaN</td>\n",
       "      <td>NaN</td>\n",
       "      <td>10</td>\n",
       "      <td>0</td>\n",
       "      <td>348115</td>\n",
       "      <td>CLT</td>\n",
       "      <td>SCC</td>\n",
       "      <td>NaN</td>\n",
       "      <td>(Jul 23,2021)</td>\n",
       "      <td>WIGGINS;BLAKE (Jul 23,2021)</td>\n",
       "      <td>20210805</td>\n",
       "    </tr>\n",
       "    <tr>\n",
       "      <th>70</th>\n",
       "      <td>WILEY, CLAY</td>\n",
       "      <td>NaN</td>\n",
       "      <td>6798167</td>\n",
       "      <td>40</td>\n",
       "      <td>NaN</td>\n",
       "      <td>NaN</td>\n",
       "      <td>10</td>\n",
       "      <td>0</td>\n",
       "      <td>354382</td>\n",
       "      <td>CLT</td>\n",
       "      <td>SCC</td>\n",
       "      <td>NaN</td>\n",
       "      <td>(Jul 23,2021)</td>\n",
       "      <td>WILEY;CLAY (Jul 23,2021)</td>\n",
       "      <td>20210805</td>\n",
       "    </tr>\n",
       "    <tr>\n",
       "      <th>71</th>\n",
       "      <td>YOUNG, JAMES</td>\n",
       "      <td>NaN</td>\n",
       "      <td>6798167</td>\n",
       "      <td>40</td>\n",
       "      <td>NaN</td>\n",
       "      <td>NaN</td>\n",
       "      <td>10</td>\n",
       "      <td>0</td>\n",
       "      <td>348136</td>\n",
       "      <td>CLT</td>\n",
       "      <td>SCC</td>\n",
       "      <td>NaN</td>\n",
       "      <td>(Jul 23,2021)</td>\n",
       "      <td>YOUNG;JAMES (Jul 23,2021)</td>\n",
       "      <td>20210805</td>\n",
       "    </tr>\n",
       "    <tr>\n",
       "      <th>72</th>\n",
       "      <td>YUSUF, SADIK</td>\n",
       "      <td>NaN</td>\n",
       "      <td>6715439</td>\n",
       "      <td>20</td>\n",
       "      <td>NaN</td>\n",
       "      <td>NaN</td>\n",
       "      <td>10</td>\n",
       "      <td>1</td>\n",
       "      <td>345500</td>\n",
       "      <td>CLT</td>\n",
       "      <td>SCC</td>\n",
       "      <td>NaN</td>\n",
       "      <td>(Jul 23,2021)</td>\n",
       "      <td>YUSUF;SADIK (Jul 23,2021) SUB</td>\n",
       "      <td>20210805</td>\n",
       "    </tr>\n",
       "  </tbody>\n",
       "</table>\n",
       "<p>73 rows × 15 columns</p>\n",
       "</div>"
      ]
     },
     "metadata": {},
     "execution_count": 282
    }
   ],
   "metadata": {}
  },
  {
   "cell_type": "code",
   "execution_count": 283,
   "source": [
    "df_nova_upload.insert(15, ' ', '')\r\n",
    "# df_nova_upload.insert(16, ' ', '')\r\n",
    "df_nova_upload.insert(16, 'Character Count', '')\r\n",
    "df_nova_upload['Character Count'] = df_nova_upload.apply(lambda row: char_count(row), axis=1)"
   ],
   "outputs": [],
   "metadata": {}
  },
  {
   "cell_type": "code",
   "execution_count": 284,
   "source": [
    "df_nova_upload = df_nova_upload[['Work order #', 'Op', 'Sub-op', 'WorkCentre', 'Plant', 'Total Hours', 'OT Activity', 'Conf', 'Confirmation Text', 'Posting Date', 'Quinn #', 'Last name, first name', 'Date Worked', 'Sub', 'Nights']]"
   ],
   "outputs": [],
   "metadata": {}
  },
  {
   "cell_type": "code",
   "execution_count": 285,
   "source": [
    "col_headers = ['WO',\t'Operation',\t'Sub-Op',\t'Work Centre',\t'Plant',\t'Hours',\t'Activity',\t'Final CNF',\t'Confirmation Text',\t'Posting Date',\t'Employee',\t'Name',\t'Date Worked',\t'Sub',\t'Nights']\r\n",
    "df_nova_upload.columns = col_headers"
   ],
   "outputs": [],
   "metadata": {}
  },
  {
   "cell_type": "code",
   "execution_count": 286,
   "source": [
    "df_nova_upload['Sub'] = df_nova_upload['Sub'].replace(\"1\", \"Sub\")\r\n",
    "df_nova_upload['Sub'] = df_nova_upload['Sub'].replace(\"0\", \"\")"
   ],
   "outputs": [
    {
     "output_type": "stream",
     "name": "stderr",
     "text": [
      "<ipython-input-286-7cff969ed418>:1: SettingWithCopyWarning: \n",
      "A value is trying to be set on a copy of a slice from a DataFrame.\n",
      "Try using .loc[row_indexer,col_indexer] = value instead\n",
      "\n",
      "See the caveats in the documentation: https://pandas.pydata.org/pandas-docs/stable/user_guide/indexing.html#returning-a-view-versus-a-copy\n",
      "  df_nova_upload['Sub'] = df_nova_upload['Sub'].replace(\"1\", \"Sub\")\n",
      "<ipython-input-286-7cff969ed418>:2: SettingWithCopyWarning: \n",
      "A value is trying to be set on a copy of a slice from a DataFrame.\n",
      "Try using .loc[row_indexer,col_indexer] = value instead\n",
      "\n",
      "See the caveats in the documentation: https://pandas.pydata.org/pandas-docs/stable/user_guide/indexing.html#returning-a-view-versus-a-copy\n",
      "  df_nova_upload['Sub'] = df_nova_upload['Sub'].replace(\"0\", \"\")\n"
     ]
    }
   ],
   "metadata": {}
  },
  {
   "cell_type": "code",
   "execution_count": 287,
   "source": [
    "df_nova_upload['Nights'] = df_nova_upload['Nights'].replace(\"Yes\", \"NS\")"
   ],
   "outputs": [
    {
     "output_type": "stream",
     "name": "stderr",
     "text": [
      "<ipython-input-287-50f620ff84b6>:1: SettingWithCopyWarning: \n",
      "A value is trying to be set on a copy of a slice from a DataFrame.\n",
      "Try using .loc[row_indexer,col_indexer] = value instead\n",
      "\n",
      "See the caveats in the documentation: https://pandas.pydata.org/pandas-docs/stable/user_guide/indexing.html#returning-a-view-versus-a-copy\n",
      "  df_nova_upload['Nights'] = df_nova_upload['Nights'].replace(\"Yes\", \"NS\")\n"
     ]
    }
   ],
   "metadata": {}
  },
  {
   "cell_type": "code",
   "execution_count": 288,
   "source": [
    "df_nova_upload.replace(np.NaN, \"\", inplace=True)\r\n",
    "df_nova_upload.to_csv('nova_upload.csv', index=False)"
   ],
   "outputs": [
    {
     "output_type": "stream",
     "name": "stderr",
     "text": [
      "C:\\Users\\divyal\\AppData\\Local\\Programs\\Python\\Python39\\lib\\site-packages\\pandas\\core\\frame.py:4383: SettingWithCopyWarning: \n",
      "A value is trying to be set on a copy of a slice from a DataFrame\n",
      "\n",
      "See the caveats in the documentation: https://pandas.pydata.org/pandas-docs/stable/user_guide/indexing.html#returning-a-view-versus-a-copy\n",
      "  return super().replace(\n"
     ]
    }
   ],
   "metadata": {}
  }
 ],
 "metadata": {
  "orig_nbformat": 4,
  "language_info": {
   "name": "python",
   "version": "3.9.0",
   "mimetype": "text/x-python",
   "codemirror_mode": {
    "name": "ipython",
    "version": 3
   },
   "pygments_lexer": "ipython3",
   "nbconvert_exporter": "python",
   "file_extension": ".py"
  },
  "kernelspec": {
   "name": "python3",
   "display_name": "Python 3.9.0 64-bit"
  },
  "interpreter": {
   "hash": "000d7c38b206a8e2af4de2a2957882e99d8b782a2ba776ccf47fcdf900c2e8f2"
  }
 },
 "nbformat": 4,
 "nbformat_minor": 2
}