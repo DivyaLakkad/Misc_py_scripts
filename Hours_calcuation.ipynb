{
 "metadata": {
  "language_info": {
   "codemirror_mode": {
    "name": "ipython",
    "version": 3
   },
   "file_extension": ".py",
   "mimetype": "text/x-python",
   "name": "python",
   "nbconvert_exporter": "python",
   "pygments_lexer": "ipython3",
   "version": "3.9.0-final"
  },
  "orig_nbformat": 2,
  "kernelspec": {
   "name": "python3",
   "display_name": "Python 3.9.0 64-bit",
   "metadata": {
    "interpreter": {
     "hash": "000d7c38b206a8e2af4de2a2957882e99d8b782a2ba776ccf47fcdf900c2e8f2"
    }
   }
  }
 },
 "nbformat": 4,
 "nbformat_minor": 2,
 "cells": [
  {
   "cell_type": "code",
   "execution_count": 1,
   "metadata": {},
   "outputs": [],
   "source": [
    "import pandas as pd\n",
    "import numpy as np\n",
    "import openpyxl\n",
    "\n",
    "\n",
    "def time_convert(t):\n",
    "    (h, m) = t.split(':')\n",
    "    result = (int(h) * 3600 + int(m) * 60)/3600 \n",
    "    return result\n"
   ]
  },
  {
   "cell_type": "code",
   "execution_count": 78,
   "metadata": {},
   "outputs": [
    {
     "output_type": "stream",
     "name": "stdout",
     "text": [
      "['ABDIKADIR, ABDIHAKIM  ' 'ABDULA, TURGAY  ' 'ANDERSON, JAMES A  '\n 'BEVERLEY, MICHAEL  ' 'BURRY, RICKEY  ' 'BYRNE, DON S.  '\n 'DORTON, ROBERT  ' 'EDGE, KYLE  ' 'GILLINGHAM, JAMIE  ' 'GRICE, GARY  '\n 'HARTERY, TYLER M  ' 'KENDALL, NORMAN  ' 'KOWALD, EVAN  '\n 'NEWBURY, BRADLY  ' 'PETTIPAS, BRYAN  ' 'PIGGOTT, DAVID  '\n 'REITBERGER, LORNA  ' 'ROLAND, DARRELL  ' 'ROWSELL, BRENDAN  '\n 'SAKATA, NICHOLAS  ' 'SCHWEDES, MARK  ' 'SKINNER, NORMAN  '\n 'SPENCER, MICHAEL  ' 'WALMSLEY, AMBER  ' 'WALSH, JOHN  '\n 'WASITIS, TRAVIS  ' 'WOODS, TOM  ' 'CODNER, DONALD  ' 'LODER, JEREMY  ']\n"
     ]
    }
   ],
   "source": [
    "df = pd.read_excel(r'C:\\Users\\divyal\\Desktop\\projects\\CDMS\\TimeSheet\\Daily.xlsx',sheet_name = 'Sheet1', engine='openpyxl')\n",
    "# dropped last row\n",
    "df = df.drop(df.index[-1])\n",
    "unique_name = df['Name'].unique()\n",
    "print(unique_name)\n",
    "    "
   ]
  },
  {
   "cell_type": "code",
   "execution_count": 34,
   "metadata": {
    "tags": []
   },
   "outputs": [
    {
     "output_type": "stream",
     "name": "stdout",
     "text": [
      "[                  Date                     Company                    Name  \\\n0  2021-02-03 00:00:00  GRAHAM INDUSTRIAL SERVICES  ABDIKADIR, ABDIHAKIM     \n1  2021-02-03 00:00:00  GRAHAM INDUSTRIAL SERVICES  ABDIKADIR, ABDIHAKIM     \n2  2021-02-04 00:00:00  GRAHAM INDUSTRIAL SERVICES  ABDIKADIR, ABDIHAKIM     \n\n     PID  In/Out   Time                        Reader  \n0  353190     In  07:11  ABUS_-R01-AP-AuroraBus-Entry  \n1  353190    Out  19:21   ABUS_-R12-AP-AuroraBus-Exit  \n2  353190     In  07:11  ABUS_-R03-AP-AuroraBus-Entry  ,                   Date                     Company              Name    PID   \\\n0  2021-02-03 00:00:00  GRAHAM INDUSTRIAL SERVICES  ABDULA, TURGAY    353302   \n1  2021-02-03 00:00:00  GRAHAM INDUSTRIAL SERVICES  ABDULA, TURGAY    353302   \n2  2021-02-04 00:00:00  GRAHAM INDUSTRIAL SERVICES  ABDULA, TURGAY    353302   \n\n  In/Out   Time                         Reader  \n0     In  06:51  APARK-R02-AP-AuroraPark-Entry  \n1    Out  19:28   APARK-R01-AP-AuroraPark-Exit  \n2     In  06:50  APARK-R02-AP-AuroraPark-Entry  ,                   Date                     Company                 Name  \\\n0  2021-02-03 00:00:00  GRAHAM INDUSTRIAL SERVICES  ANDERSON, JAMES A     \n1  2021-02-03 00:00:00  GRAHAM INDUSTRIAL SERVICES  ANDERSON, JAMES A     \n2  2021-02-04 00:00:00  GRAHAM INDUSTRIAL SERVICES  ANDERSON, JAMES A     \n\n     PID  In/Out   Time                         Reader  \n0  332686     In  06:39  APARK-R02-AP-AuroraPark-Entry  \n1  332686    Out  19:24   APARK-R01-AP-AuroraPark-Exit  \n2  332686     In  06:51  APARK-R02-AP-AuroraPark-Entry  ,                   Date                     Company                 Name  \\\n0  2021-02-03 00:00:00  GRAHAM INDUSTRIAL SERVICES  BEVERLEY, MICHAEL     \n1  2021-02-04 00:00:00  GRAHAM INDUSTRIAL SERVICES  BEVERLEY, MICHAEL     \n\n     PID  In/Out   Time                        Reader  \n0  351300     In  19:22  ABUS_-R03-AP-AuroraBus-Entry  \n1  351300    Out  07:18   ABUS_-R12-AP-AuroraBus-Exit  ,                   Date                     Company             Name    PID   \\\n0  2021-02-03 00:00:00  GRAHAM INDUSTRIAL SERVICES  BURRY, RICKEY    353323   \n1  2021-02-04 00:00:00  GRAHAM INDUSTRIAL SERVICES  BURRY, RICKEY    353323   \n2  2021-02-04 00:00:00  GRAHAM INDUSTRIAL SERVICES  BURRY, RICKEY    353323   \n\n  In/Out   Time                        Reader  \n0     In  19:17  ABUS_-R05-AP-AuroraBus-Entry  \n1    Out  07:15   ABUS_-R12-AP-AuroraBus-Exit  \n2    Out  07:16   ABUS_-R10-AP-AuroraBus-Exit  ,                   Date                     Company             Name    PID   \\\n0  2021-02-03 00:00:00  GRAHAM INDUSTRIAL SERVICES  BYRNE, DON S.    353198   \n1  2021-02-03 00:00:00  GRAHAM INDUSTRIAL SERVICES  BYRNE, DON S.    353198   \n2  2021-02-04 00:00:00  GRAHAM INDUSTRIAL SERVICES  BYRNE, DON S.    353198   \n\n  In/Out   Time                         Reader  \n0     In  07:50  APARK-R02-AP-AuroraPark-Entry  \n1    Out  19:26   APARK-R03-AP-AuroraPark-Exit  \n2     In  07:20   ABUS_-R03-AP-AuroraBus-Entry  ,                   Date                     Company              Name  PID   \\\n0  2021-02-03 00:00:00  GRAHAM INDUSTRIAL SERVICES  DORTON, ROBERT    None   \n1  2021-02-03 00:00:00  GRAHAM INDUSTRIAL SERVICES  DORTON, ROBERT    None   \n\n  In/Out   Time                        Reader  \n0     In  07:10  ABUS_-R05-AP-AuroraBus-Entry  \n1    Out  19:20   ABUS_-R10-AP-AuroraBus-Exit  ,                   Date                     Company          Name    PID   \\\n0  2021-02-03 00:00:00  GRAHAM INDUSTRIAL SERVICES  EDGE, KYLE    324125   \n1  2021-02-03 00:00:00  GRAHAM INDUSTRIAL SERVICES  EDGE, KYLE    324125   \n2  2021-02-04 00:00:00  GRAHAM INDUSTRIAL SERVICES  EDGE, KYLE    324125   \n\n  In/Out   Time                      Reader  \n0     In  07:06  AGATE-R01-AP-Vehicle_Entry  \n1    Out  19:53   AGATE-R02-AP-Vehicle_Exit  \n2     In  06:57  AGATE-R01-AP-Vehicle_Entry  ,                   Date                     Company                 Name  \\\n0  2021-02-03 00:00:00  GRAHAM INDUSTRIAL SERVICES  GILLINGHAM, JAMIE     \n1  2021-02-04 00:00:00  GRAHAM INDUSTRIAL SERVICES  GILLINGHAM, JAMIE     \n\n     PID  In/Out   Time                      Reader  \n0  287695     In  18:15  AGATE-R01-AP-Vehicle_Entry  \n1  287695    Out  07:22   AGATE-R02-AP-Vehicle_Exit  ,                   Date                     Company           Name    PID   \\\n0  2021-02-03 00:00:00  GRAHAM INDUSTRIAL SERVICES  GRICE, GARY    353299   \n1  2021-02-04 00:00:00  GRAHAM INDUSTRIAL SERVICES  GRICE, GARY    353299   \n\n  In/Out   Time                        Reader  \n0     In  19:19  ABUS_-R01-AP-AuroraBus-Entry  \n1    Out  07:18   ABUS_-R08-AP-AuroraBus-Exit  ,                   Date                     Company                Name  \\\n0  2021-02-03 00:00:00  GRAHAM INDUSTRIAL SERVICES  HARTERY, TYLER M     \n1  2021-02-03 00:00:00  GRAHAM INDUSTRIAL SERVICES  HARTERY, TYLER M     \n2  2021-02-03 00:00:00  GRAHAM INDUSTRIAL SERVICES  HARTERY, TYLER M     \n3  2021-02-03 00:00:00  GRAHAM INDUSTRIAL SERVICES  HARTERY, TYLER M     \n4  2021-02-03 00:00:00  GRAHAM INDUSTRIAL SERVICES  HARTERY, TYLER M     \n5  2021-02-04 00:00:00  GRAHAM INDUSTRIAL SERVICES  HARTERY, TYLER M     \n\n     PID  In/Out   Time                        Reader  \n0  272789     In  07:19  ABUS_-R07-AP-AuroraBus-Entry  \n1  272789    Out  12:23     AGATE-R02-AP-Vehicle_Exit  \n2  272789     In  12:25    AGATE-R01-AP-Vehicle_Entry  \n3  272789    Out  19:18   ABUS_-R10-AP-AuroraBus-Exit  \n4  272789    Out  19:18   ABUS_-R08-AP-AuroraBus-Exit  \n5  272789     In  07:19  ABUS_-R03-AP-AuroraBus-Entry  ,                   Date                     Company               Name  PID   \\\n0  2021-02-03 00:00:00  GRAHAM INDUSTRIAL SERVICES  KENDALL, NORMAN    None   \n1  2021-02-03 00:00:00  GRAHAM INDUSTRIAL SERVICES  KENDALL, NORMAN    None   \n2  2021-02-04 00:00:00  GRAHAM INDUSTRIAL SERVICES  KENDALL, NORMAN    None   \n\n  In/Out   Time                         Reader  \n0     In  07:00  APARK-R02-AP-AuroraPark-Entry  \n1    Out  19:25   APARK-R01-AP-AuroraPark-Exit  \n2     In  06:59  APARK-R02-AP-AuroraPark-Entry  ,                   Date                     Company            Name    PID   \\\n0  2021-02-03 00:00:00  GRAHAM INDUSTRIAL SERVICES  KOWALD, EVAN    353360   \n1  2021-02-03 00:00:00  GRAHAM INDUSTRIAL SERVICES  KOWALD, EVAN    353360   \n2  2021-02-04 00:00:00  GRAHAM INDUSTRIAL SERVICES  KOWALD, EVAN    353360   \n\n  In/Out   Time                      Reader  \n0     In  06:43  AGATE-R01-AP-Vehicle_Entry  \n1    Out  19:39   AGATE-R02-AP-Vehicle_Exit  \n2     In  06:40  AGATE-R01-AP-Vehicle_Entry  ,                   Date                     Company               Name    PID   \\\n0  2021-02-03 00:00:00  GRAHAM INDUSTRIAL SERVICES  NEWBURY, BRADLY    344247   \n1  2021-02-03 00:00:00  GRAHAM INDUSTRIAL SERVICES  NEWBURY, BRADLY    344247   \n2  2021-02-03 00:00:00  GRAHAM INDUSTRIAL SERVICES  NEWBURY, BRADLY    344247   \n3  2021-02-03 00:00:00  GRAHAM INDUSTRIAL SERVICES  NEWBURY, BRADLY    344247   \n4  2021-02-04 00:00:00  GRAHAM INDUSTRIAL SERVICES  NEWBURY, BRADLY    344247   \n\n  In/Out   Time                         Reader  \n0     In  06:49  APARK-R02-AP-AuroraPark-Entry  \n1    Out  12:24  AGATE-R06-Aurora Schlage Exit  \n2     In  12:26     AGATE-R01-AP-Vehicle_Entry  \n3    Out  19:24   APARK-R01-AP-AuroraPark-Exit  \n4     In  06:58  APARK-R02-AP-AuroraPark-Entry  ,                   Date                     Company               Name  PID   \\\n0  2021-02-03 00:00:00  GRAHAM INDUSTRIAL SERVICES  PETTIPAS, BRYAN    None   \n1  2021-02-03 00:00:00  GRAHAM INDUSTRIAL SERVICES  PETTIPAS, BRYAN    None   \n2  2021-02-04 00:00:00  GRAHAM INDUSTRIAL SERVICES  PETTIPAS, BRYAN    None   \n\n  In/Out   Time                        Reader  \n0     In  07:13  ABUS_-R03-AP-AuroraBus-Entry  \n1    Out  19:21   ABUS_-R12-AP-AuroraBus-Exit  \n2     In  07:14  ABUS_-R03-AP-AuroraBus-Entry  ,                   Date                     Company              Name  PID   \\\n0  2021-02-03 00:00:00  GRAHAM INDUSTRIAL SERVICES  PIGGOTT, DAVID    None   \n1  2021-02-03 00:00:00  GRAHAM INDUSTRIAL SERVICES  PIGGOTT, DAVID    None   \n2  2021-02-04 00:00:00  GRAHAM INDUSTRIAL SERVICES  PIGGOTT, DAVID    None   \n\n  In/Out   Time                      Reader  \n0     In  07:56  AGATE-R01-AP-Vehicle_Entry  \n1    Out  17:31   AGATE-R02-AP-Vehicle_Exit  \n2     In  07:27  AGATE-R01-AP-Vehicle_Entry  ,                   Date                     Company                 Name  \\\n0  2021-02-03 00:00:00  GRAHAM INDUSTRIAL SERVICES  REITBERGER, LORNA     \n1  2021-02-04 00:00:00  GRAHAM INDUSTRIAL SERVICES  REITBERGER, LORNA     \n2  2021-02-04 00:00:00  GRAHAM INDUSTRIAL SERVICES  REITBERGER, LORNA     \n3  2021-02-04 00:00:00  GRAHAM INDUSTRIAL SERVICES  REITBERGER, LORNA     \n\n     PID  In/Out   Time                        Reader  \n0  353324     In  19:05  ABUS_-R05-AP-AuroraBus-Entry  \n1  353324    Out  07:16   ABUS_-R12-AP-AuroraBus-Exit  \n2  353324     In  07:19  ABUS_-R05-AP-AuroraBus-Entry  \n3  353324    Out  07:21   ABUS_-R08-AP-AuroraBus-Exit  ,                   Date                     Company               Name    PID   \\\n0  2021-02-03 00:00:00  GRAHAM INDUSTRIAL SERVICES  ROLAND, DARRELL    275408   \n1  2021-02-03 00:00:00  GRAHAM INDUSTRIAL SERVICES  ROLAND, DARRELL    275408   \n2  2021-02-04 00:00:00  GRAHAM INDUSTRIAL SERVICES  ROLAND, DARRELL    275408   \n3  2021-02-04 00:00:00  GRAHAM INDUSTRIAL SERVICES  ROLAND, DARRELL    275408   \n\n  In/Out   Time                      Reader  \n0     In  06:31  AGATE-R01-AP-Vehicle_Entry  \n1    Out  18:10   AGATE-R02-AP-Vehicle_Exit  \n2     In  06:44  AGATE-R01-AP-Vehicle_Entry  \n3    Out  14:34   AGATE-R02-AP-Vehicle_Exit  ,                   Date                     Company                Name  \\\n0  2021-02-03 00:00:00  GRAHAM INDUSTRIAL SERVICES  ROWSELL, BRENDAN     \n1  2021-02-03 00:00:00  GRAHAM INDUSTRIAL SERVICES  ROWSELL, BRENDAN     \n2  2021-02-04 00:00:00  GRAHAM INDUSTRIAL SERVICES  ROWSELL, BRENDAN     \n\n     PID  In/Out   Time                         Reader  \n0  353300     In  07:05  APARK-R02-AP-AuroraPark-Entry  \n1  353300    Out  19:24   APARK-R01-AP-AuroraPark-Exit  \n2  353300     In  07:01  APARK-R04-AP-AuroraPark-Entry  ,                   Date                     Company                Name  \\\n0  2021-02-03 00:00:00  GRAHAM INDUSTRIAL SERVICES  SAKATA, NICHOLAS     \n1  2021-02-04 00:00:00  GRAHAM INDUSTRIAL SERVICES  SAKATA, NICHOLAS     \n\n     PID  In/Out   Time                        Reader  \n0  337132     In  19:17  ABUS_-R05-AP-AuroraBus-Entry  \n1  337132    Out  07:16   ABUS_-R12-AP-AuroraBus-Exit  ,                   Date                     Company              Name    PID   \\\n0  2021-02-03 00:00:00  GRAHAM INDUSTRIAL SERVICES  SCHWEDES, MARK    345433   \n1  2021-02-03 00:00:00  GRAHAM INDUSTRIAL SERVICES  SCHWEDES, MARK    345433   \n2  2021-02-04 00:00:00  GRAHAM INDUSTRIAL SERVICES  SCHWEDES, MARK    345433   \n\n  In/Out   Time                      Reader  \n0     In  07:19  AGATE-R01-AP-Vehicle_Entry  \n1    Out  18:05   AGATE-R02-AP-Vehicle_Exit  \n2     In  07:00  AGATE-R01-AP-Vehicle_Entry  ,                   Date                     Company               Name    PID   \\\n0  2021-02-03 00:00:00  GRAHAM INDUSTRIAL SERVICES  SKINNER, NORMAN    343832   \n1  2021-02-03 00:00:00  GRAHAM INDUSTRIAL SERVICES  SKINNER, NORMAN    343832   \n2  2021-02-04 00:00:00  GRAHAM INDUSTRIAL SERVICES  SKINNER, NORMAN    343832   \n\n  In/Out   Time                         Reader  \n0     In  06:39  APARK-R02-AP-AuroraPark-Entry  \n1    Out  19:24   APARK-R03-AP-AuroraPark-Exit  \n2     In  06:51  APARK-R04-AP-AuroraPark-Entry  ,                   Date                     Company                Name  \\\n0  2021-02-03 00:00:00  GRAHAM INDUSTRIAL SERVICES  SPENCER, MICHAEL     \n1  2021-02-03 00:00:00  GRAHAM INDUSTRIAL SERVICES  SPENCER, MICHAEL     \n2  2021-02-04 00:00:00  GRAHAM INDUSTRIAL SERVICES  SPENCER, MICHAEL     \n\n     PID  In/Out   Time                      Reader  \n0  286726     In  12:00  AGATE-R01-AP-Vehicle_Entry  \n1  286726    Out  22:21   AGATE-R02-AP-Vehicle_Exit  \n2  286726     In  13:37  AGATE-R01-AP-Vehicle_Entry  ,                   Date                     Company               Name    PID   \\\n0  2021-02-03 00:00:00  GRAHAM INDUSTRIAL SERVICES  WALMSLEY, AMBER    353220   \n1  2021-02-03 00:00:00  GRAHAM INDUSTRIAL SERVICES  WALMSLEY, AMBER    353220   \n2  2021-02-04 00:00:00  GRAHAM INDUSTRIAL SERVICES  WALMSLEY, AMBER    353220   \n3  2021-02-04 00:00:00  GRAHAM INDUSTRIAL SERVICES  WALMSLEY, AMBER    353220   \n\n  In/Out   Time                        Reader  \n0     In  07:10  ABUS_-R11-AP-AuroraBus-Entry  \n1    Out  19:21   ABUS_-R10-AP-AuroraBus-Exit  \n2     In  07:10  ABUS_-R11-AP-AuroraBus-Entry  \n3     In  07:11  ABUS_-R11-AP-AuroraBus-Entry  ,                   Date                     Company           Name  PID   \\\n0  2021-02-03 00:00:00  GRAHAM INDUSTRIAL SERVICES  WALSH, JOHN    None   \n1  2021-02-03 00:00:00  GRAHAM INDUSTRIAL SERVICES  WALSH, JOHN    None   \n2  2021-02-03 00:00:00  GRAHAM INDUSTRIAL SERVICES  WALSH, JOHN    None   \n3  2021-02-03 00:00:00  GRAHAM INDUSTRIAL SERVICES  WALSH, JOHN    None   \n4  2021-02-04 00:00:00  GRAHAM INDUSTRIAL SERVICES  WALSH, JOHN    None   \n\n  In/Out   Time                      Reader  \n0     In  07:16  AGATE-R01-AP-Vehicle_Entry  \n1    Out  13:50   AGATE-R02-AP-Vehicle_Exit  \n2     In  13:57  AGATE-R01-AP-Vehicle_Entry  \n3    Out  17:36   AGATE-R02-AP-Vehicle_Exit  \n4     In  07:13  AGATE-R01-AP-Vehicle_Entry  ,                   Date                     Company               Name    PID   \\\n0  2021-02-03 00:00:00  GRAHAM INDUSTRIAL SERVICES  WASITIS, TRAVIS    330865   \n1  2021-02-03 00:00:00  GRAHAM INDUSTRIAL SERVICES  WASITIS, TRAVIS    330865   \n\n  In/Out   Time                      Reader  \n0     In  06:43  AGATE-R01-AP-Vehicle_Entry  \n1    Out  19:38   AGATE-R02-AP-Vehicle_Exit  ,                   Date                     Company          Name    PID   \\\n0  2021-02-03 00:00:00  GRAHAM INDUSTRIAL SERVICES  WOODS, TOM    353327   \n1  2021-02-04 00:00:00  GRAHAM INDUSTRIAL SERVICES  WOODS, TOM    353327   \n\n  In/Out   Time                    Reader  \n0     In  19:14  AGATE-R03-AP-Kiosk_Entry  \n1    Out  07:19   AGATE-R04-AP-Kiosk_Exit  ,                   Date                     Company              Name    PID   \\\n0  2021-02-04 00:00:00  GRAHAM INDUSTRIAL SERVICES  CODNER, DONALD    329288   \n\n  In/Out   Time                        Reader  \n0     In  07:18  ABUS_-R07-AP-AuroraBus-Entry  ,                   Date                     Company             Name    PID   \\\n0  2021-02-04 00:00:00  GRAHAM INDUSTRIAL SERVICES  LODER, JEREMY    285980   \n\n  In/Out   Time                      Reader  \n0     In  07:08  AGATE-R01-AP-Vehicle_Entry  ]\n"
     ]
    }
   ],
   "source": [
    "length = len(unique_name)\n",
    "each_employee_df = []\n",
    "for i in range(0, length):\n",
    "    unique_employee_df = df[df['Name'] == unique_name[i]]\n",
    "    unique_employee_df = unique_employee_df.reset_index(drop=True)\n",
    "    each_employee_df.append(unique_employee_df)\n",
    "\n",
    "print(each_employee_df)\n"
   ]
  },
  {
   "cell_type": "code",
   "execution_count": 92,
   "metadata": {},
   "outputs": [
    {
     "output_type": "stream",
     "name": "stdout",
     "text": [
      "[12.166666666666668, 12.616666666666665, 12.749999999999998, 12.066666666666666, 12.033333333333335, 11.600000000000001, 12.166666666666664, 12.783333333333333, 10.883333333333333, 12.016666666666666, 11.950000000000001, 12.416666666666668, 12.933333333333332, 12.55, 12.133333333333335, 9.583333333333332, 11.783333333333333, 19.483333333333334, 12.316666666666666, 12.01666666666667, 10.766666666666666, 12.749999999999998, 10.350000000000001, 12.183333333333334, 10.216666666666669, 12.916666666666666, 11.916666666666668, 0, 0]\n"
     ]
    }
   ],
   "source": [
    "# make a copy of the dataframe because its taking an instance of df right now.\n",
    "length = len(each_employee_df)\n",
    "employee_hours = []\n",
    "In_time = []\n",
    "Out_time = []\n",
    "for j in range(0,length):\n",
    "    hours = 0\n",
    "    out_time = 0\n",
    "    store_time = 0\n",
    "    temp_df =  each_employee_df[j]\n",
    "    for i , row in temp_df.iterrows():\n",
    "    \n",
    "        # if i == 0 and row[4] == 'In':\n",
    "        #     In_time[j] = row[5]\n",
    "        # elif i == 1 and row[4] == 'In':\n",
    "        #     In_time[j] = row[5]\n",
    "        # else:\n",
    "        #     In_time[j] = 0\n",
    "\n",
    "        # if i == temp_df.index[-1] and row[4] == 'Out':\n",
    "        #     Out_time[j] = row[5]\n",
    "\n",
    "        # elif i == temp_df.index[-1] - 1  and row[4] == 'Out':\n",
    "        #     Out_time[j] = row[5]\n",
    "        \n",
    "        # else:\n",
    "        #     Out_time[j] = 0\n",
    "\n",
    "        if row[4] == 'In' and (i % 2) == 0:\n",
    "            store_time = row[5]\n",
    "            store_time = time_convert(store_time)\n",
    "            \n",
    "        elif row[4] == 'Out' and (i % 2) != 0:\n",
    "            out_time = row[5]\n",
    "            out_time = time_convert(out_time)\n",
    "            hours = hours + out_time - store_time\n",
    "            store_time = 0\n",
    "            \n",
    "       \n",
    "    employee_hours.append(abs(hours))\n",
    "\n",
    "    \n",
    "print(employee_hours)\n"
   ]
  },
  {
   "cell_type": "code",
   "execution_count": 93,
   "metadata": {},
   "outputs": [],
   "source": [
    "out_df = pd.DataFrame([unique_name, employee_hours])\n",
    "out_df = out_df.T\n",
    "out_df.to_csv('out.csv')"
   ]
  },
  {
   "cell_type": "code",
   "execution_count": null,
   "metadata": {},
   "outputs": [],
   "source": []
  }
 ]
}